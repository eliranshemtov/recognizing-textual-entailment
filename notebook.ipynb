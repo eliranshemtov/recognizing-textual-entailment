{
 "cells": [
  {
   "cell_type": "markdown",
   "metadata": {},
   "source": [
    "# Text entailment using BERT model"
   ]
  },
  {
   "cell_type": "markdown",
   "metadata": {},
   "source": [
    "Fine tunning helper resources: \n",
    "- https://mccormickml.com/2019/07/22/BERT-fine-tuning/\n",
    "- https://huggingface.co/docs/transformers/training"
   ]
  },
  {
   "cell_type": "code",
   "execution_count": 27,
   "metadata": {},
   "outputs": [],
   "source": [
    "import os\n",
    "import torch\n",
    "import random\n",
    "import wget\n",
    "import zipfile\n",
    "import numpy as np\n",
    "import pandas as pd\n",
    "import torch.nn as nn\n",
    "import matplotlib.pyplot as plt\n",
    "from typing import Tuple\n",
    "from tqdm.notebook import tqdm\n",
    "from sklearn.metrics import classification_report\n",
    "from torch.utils.data import Dataset, DataLoader, RandomSampler, SequentialSampler\n",
    "from transformers import BertTokenizer, BertForSequenceClassification, AdamW"
   ]
  },
  {
   "cell_type": "code",
   "execution_count": 28,
   "metadata": {},
   "outputs": [],
   "source": [
    "MODEL_VERSION = 1.0\n",
    "MODEL_PATH = f'./saved_model/{MODEL_VERSION}'\n",
    "MODEL_HISTORY_PATH = f'{MODEL_PATH}/history.csv'\n",
    "\n",
    "DATASET_URL = 'https://nlp.stanford.edu/projects/snli/snli_1.0.zip'\n",
    "DATASET_DIR_PATH = './data'\n",
    "DATASET_NAME = 'snli_1.0'\n",
    "DATASET_DOWNLOAD_PATH = f'{DATASET_DIR_PATH}/{DATASET_NAME}.zip'\n",
    "DATA_DEV = f'{DATASET_DIR_PATH}/{DATASET_NAME}/snli_1.0_dev.txt'\n",
    "DATA_TEST = f'{DATASET_DIR_PATH}/{DATASET_NAME}/snli_1.0_test.txt'\n",
    "DATA_TRAIN = f'{DATASET_DIR_PATH}/{DATASET_NAME}/snli_1.0_train.txt'\n",
    "\n",
    "BATCH_SIZE = 50\n",
    "\n",
    "LABELS = {'neutral': 0, 'contradiction': 1, 'entailment': 2}"
   ]
  },
  {
   "cell_type": "code",
   "execution_count": 29,
   "metadata": {},
   "outputs": [],
   "source": [
    "if not os.path.isdir(DATASET_DIR_PATH):\n",
    "    os.mkdir(DATASET_DIR_PATH)\n",
    "    wget.download(DATASET_URL, out=DATASET_DOWNLOAD_PATH)\n",
    "    \n",
    "    with zipfile.ZipFile(DATASET_DOWNLOAD_PATH, 'r') as z:\n",
    "        z.extractall(DATASET_DIR_PATH)\n",
    "        os.remove(DATASET_DOWNLOAD_PATH)\n"
   ]
  },
  {
   "cell_type": "code",
   "execution_count": 30,
   "metadata": {},
   "outputs": [],
   "source": [
    "device = torch.device('cuda' if torch.cuda.is_available() else 'cpu')"
   ]
  },
  {
   "cell_type": "code",
   "execution_count": null,
   "metadata": {},
   "outputs": [],
   "source": [
    "tokenizer = BertTokenizer.from_pretrained('bert-base-cased')"
   ]
  },
  {
   "cell_type": "code",
   "execution_count": null,
   "metadata": {},
   "outputs": [],
   "source": [
    "class SNLIDataset(Dataset):\n",
    "    def __init__(self, csv_file: str):\n",
    "        self.data = pd.read_csv(csv_file, sep='\\t')\n",
    "        self.data = self.data[['gold_label', 'sentence1', 'sentence2']]\n",
    "        self.data = self.data[self.data['gold_label'] != '-']\n",
    "        self.data.dropna(inplace=True)\n",
    "\n",
    "        self.sentences: pd.Series = '[CLS]' + self.data['sentence1'] + '[SEP]' + self.data['sentence2'] + '[SEP]'\n",
    "\n",
    "        # find the max length\n",
    "        # tokens = [tokenizer.tokenize(sen) for sen in self.sentences.values]\n",
    "        # self.max_len = max([len(t_list) for t_list in tokens])\n",
    "        self.max_len = 200\n",
    "\n",
    "        self.labels = [LABELS[v] for v in self.data['gold_label'].values]\n",
    "\n",
    "    def __len__(self) -> int:\n",
    "        return len(self.data)\n",
    "\n",
    "    def __getitem__(self, index: int) -> Tuple[torch.tensor, torch.tensor, int]:\n",
    "        sentence = self.sentences.iloc[index]\n",
    "\n",
    "        encoded = tokenizer.encode_plus(\n",
    "            sentence,\n",
    "            return_tensors='pt',\n",
    "            add_special_tokens=True,\n",
    "            return_attention_mask=True,\n",
    "            padding='max_length',\n",
    "            max_length=self.max_len,\n",
    "        )\n",
    "\n",
    "        return encoded['input_ids'], encoded['attention_mask'], self.labels[index]"
   ]
  },
  {
   "cell_type": "code",
   "execution_count": null,
   "metadata": {},
   "outputs": [],
   "source": [
    "train = SNLIDataset(csv_file=DATA_TRAIN)\n",
    "dev = SNLIDataset(csv_file=DATA_DEV)\n",
    "test = SNLIDataset(csv_file=DATA_TEST)"
   ]
  },
  {
   "cell_type": "code",
   "execution_count": null,
   "metadata": {},
   "outputs": [],
   "source": [
    "train_loader = DataLoader(train, batch_size=BATCH_SIZE, sampler=RandomSampler(train))\n",
    "dev_loader = DataLoader(dev, batch_size=BATCH_SIZE, sampler=SequentialSampler(train))\n",
    "test_loader = DataLoader(test, batch_size=BATCH_SIZE)"
   ]
  },
  {
   "cell_type": "code",
   "execution_count": null,
   "metadata": {},
   "outputs": [],
   "source": [
    "model = BertForSequenceClassification.from_pretrained('bert-base-cased', num_labels=3, output_attentions=False, output_hidden_states=False)"
   ]
  },
  {
   "cell_type": "code",
   "execution_count": null,
   "metadata": {},
   "outputs": [],
   "source": [
    "model.to(device)"
   ]
  },
  {
   "cell_type": "code",
   "execution_count": 25,
   "metadata": {},
   "outputs": [],
   "source": [
    "max_epoch = 3"
   ]
  },
  {
   "cell_type": "code",
   "execution_count": 26,
   "metadata": {},
   "outputs": [],
   "source": [
    "optimizer = AdamW(model.parameters())"
   ]
  },
  {
   "cell_type": "code",
   "execution_count": 13,
   "metadata": {},
   "outputs": [],
   "source": [
    "seed_val = 42\n",
    "random.seed(seed_val)\n",
    "np.random.seed(seed_val)\n",
    "torch.manual_seed(seed_val)\n",
    "torch.cuda.manual_seed_all(seed_val)"
   ]
  },
  {
   "cell_type": "code",
   "execution_count": 15,
   "metadata": {},
   "outputs": [
    {
     "name": "stdout",
     "output_type": "stream",
     "text": [
      "Epoch 1/3\n"
     ]
    },
    {
     "data": {
      "application/vnd.jupyter.widget-view+json": {
       "model_id": "d8691f10785941b7aed69b205fcbf0bd",
       "version_major": 2,
       "version_minor": 0
      },
      "text/plain": [
       "Training:   0%|          | 0/10988 [00:00<?, ?it/s]"
      ]
     },
     "metadata": {},
     "output_type": "display_data"
    },
    {
     "data": {
      "application/vnd.jupyter.widget-view+json": {
       "model_id": "debdf5d0a26c40aa81961d0634e0b613",
       "version_major": 2,
       "version_minor": 0
      },
      "text/plain": [
       "Validation:   0%|          | 0/10988 [00:00<?, ?it/s]"
      ]
     },
     "metadata": {},
     "output_type": "display_data"
    },
    {
     "name": "stdout",
     "output_type": "stream",
     "text": [
      "Epoch 2/3\n"
     ]
    },
    {
     "data": {
      "application/vnd.jupyter.widget-view+json": {
       "model_id": "12ee17e75e24437d89927af5f353a394",
       "version_major": 2,
       "version_minor": 0
      },
      "text/plain": [
       "Training:   0%|          | 0/10988 [00:00<?, ?it/s]"
      ]
     },
     "metadata": {},
     "output_type": "display_data"
    },
    {
     "data": {
      "application/vnd.jupyter.widget-view+json": {
       "model_id": "8861a4f2d2324997ab70b20669e120c9",
       "version_major": 2,
       "version_minor": 0
      },
      "text/plain": [
       "Validation:   0%|          | 0/10988 [00:00<?, ?it/s]"
      ]
     },
     "metadata": {},
     "output_type": "display_data"
    },
    {
     "name": "stdout",
     "output_type": "stream",
     "text": [
      "Epoch 3/3\n"
     ]
    },
    {
     "data": {
      "application/vnd.jupyter.widget-view+json": {
       "model_id": "b220890178d64fc7ba5e5b131f8505df",
       "version_major": 2,
       "version_minor": 0
      },
      "text/plain": [
       "Training:   0%|          | 0/10988 [00:00<?, ?it/s]"
      ]
     },
     "metadata": {},
     "output_type": "display_data"
    },
    {
     "data": {
      "application/vnd.jupyter.widget-view+json": {
       "model_id": "18fff83d59e74fdc92ad2c6046d7d40f",
       "version_major": 2,
       "version_minor": 0
      },
      "text/plain": [
       "Validation:   0%|          | 0/10988 [00:00<?, ?it/s]"
      ]
     },
     "metadata": {},
     "output_type": "display_data"
    }
   ],
   "source": [
    "if not os.path.isdir(MODEL_PATH):\n",
    "\n",
    "    history = []\n",
    "\n",
    "    for epoch in range(max_epoch):\n",
    "        print(f'Epoch {epoch + 1}/{max_epoch}')\n",
    "\n",
    "        # Training\n",
    "        train_bar = tqdm(total=len(train_loader), position=1, desc=\"Training\")\n",
    "        \n",
    "        total_train_loss = 0\n",
    "\n",
    "        model.train()  \n",
    "\n",
    "        for batch in train_loader:\n",
    "            # squeeze fix the tensor dimenssion\n",
    "            batch_ids = batch[0].squeeze(1).to(device)\n",
    "            batch_masks = batch[1].squeeze(1).to(device)\n",
    "            batch_labels = batch[2].to(device)\n",
    "\n",
    "            model.zero_grad()\n",
    "\n",
    "            output = model(batch_ids, token_type_ids = None, attention_mask = batch_masks, labels = batch_labels)\n",
    "            loss = output.loss\n",
    "\n",
    "            total_train_loss += loss.item()\n",
    "            loss.backward()\n",
    "\n",
    "            nn.utils.clip_grad_norm_(model.parameters(), 1.0)\n",
    "\n",
    "            optimizer.step()\n",
    "            train_bar.update(1)\n",
    "            train_bar.set_postfix({'loss': total_train_loss / len(train_loader)})\n",
    "\n",
    "        avg_train_loss = total_train_loss / len(train_loader)\n",
    "        \n",
    "        # Evaluation\n",
    "        eval_bar = tqdm(total=len(dev_loader), position=0, desc=\"Validation\")\n",
    "        \n",
    "        total_eval_loss = 0\n",
    "        total_eval_accuracy = 0\n",
    "\n",
    "        model.eval()\n",
    "\n",
    "        for batch in dev_loader:\n",
    "            batch_ids = batch[0].squeeze(1).to(device)\n",
    "            batch_masks = batch[1].squeeze(1).to(device)\n",
    "            batch_labels = batch[2].to(device)\n",
    "\n",
    "            with torch.no_grad():\n",
    "                output = model(batch_ids, token_type_ids = None, attention_mask = batch_masks, labels = batch_labels)\n",
    "        \n",
    "            total_eval_loss += output.loss.item()\n",
    "            \n",
    "            # Accumulate the accuracy\n",
    "            logits = output.logits.numpy()\n",
    "            logits_labels = np.argmax(logits, axis=1)\n",
    "            accuracy = np.sum(logits_labels == batch_labels.numpy()) / len(batch_labels)\n",
    "            total_eval_accuracy += accuracy\n",
    "\n",
    "            eval_bar.update(1)\n",
    "            eval_bar.set_postfix({'loss': total_train_loss / len(train_loader), 'acc': total_eval_accuracy / len(dev_loader)})\n",
    "\n",
    "        avg_eval_loss = total_eval_loss / len(dev_loader)\n",
    "        avg_eval_accuracy = total_eval_accuracy / len(dev_loader)\n",
    "\n",
    "        history.append({\n",
    "            'epoch': epoch,\n",
    "            'training_loss': avg_train_loss,\n",
    "            'validation_loss': avg_eval_loss,\n",
    "            'validation_accuracy': avg_eval_accuracy\n",
    "        })\n",
    "\n",
    "        # Save every epoch\n",
    "        model.save_pretrained(MODEL_PATH)\n",
    "        pd.DataFrame(history).set_index('epoch').to_csv(MODEL_HISTORY_PATH)\n",
    "\n",
    "else:\n",
    "    print(f'Model version {MODEL_VERSION} already exists')"
   ]
  },
  {
   "cell_type": "code",
   "execution_count": 16,
   "metadata": {},
   "outputs": [
    {
     "data": {
      "text/html": [
       "<div>\n",
       "<style scoped>\n",
       "    .dataframe tbody tr th:only-of-type {\n",
       "        vertical-align: middle;\n",
       "    }\n",
       "\n",
       "    .dataframe tbody tr th {\n",
       "        vertical-align: top;\n",
       "    }\n",
       "\n",
       "    .dataframe thead th {\n",
       "        text-align: right;\n",
       "    }\n",
       "</style>\n",
       "<table border=\"1\" class=\"dataframe\">\n",
       "  <thead>\n",
       "    <tr style=\"text-align: right;\">\n",
       "      <th></th>\n",
       "      <th>epoch</th>\n",
       "      <th>training_loss</th>\n",
       "      <th>validation_loss</th>\n",
       "      <th>validation_accuracy</th>\n",
       "    </tr>\n",
       "  </thead>\n",
       "  <tbody>\n",
       "    <tr>\n",
       "      <th>0</th>\n",
       "      <td>0</td>\n",
       "      <td>0.000116</td>\n",
       "      <td>0.000116</td>\n",
       "      <td>0.000036</td>\n",
       "    </tr>\n",
       "    <tr>\n",
       "      <th>1</th>\n",
       "      <td>1</td>\n",
       "      <td>0.000131</td>\n",
       "      <td>0.000165</td>\n",
       "      <td>0.000029</td>\n",
       "    </tr>\n",
       "    <tr>\n",
       "      <th>2</th>\n",
       "      <td>2</td>\n",
       "      <td>0.000144</td>\n",
       "      <td>0.000113</td>\n",
       "      <td>0.000029</td>\n",
       "    </tr>\n",
       "  </tbody>\n",
       "</table>\n",
       "</div>"
      ],
      "text/plain": [
       "   epoch  training_loss  validation_loss  validation_accuracy\n",
       "0      0       0.000116         0.000116             0.000036\n",
       "1      1       0.000131         0.000165             0.000029\n",
       "2      2       0.000144         0.000113             0.000029"
      ]
     },
     "execution_count": 16,
     "metadata": {},
     "output_type": "execute_result"
    }
   ],
   "source": [
    "history = pd.read_csv(MODEL_HISTORY_PATH)\n",
    "history"
   ]
  },
  {
   "cell_type": "code",
   "execution_count": 17,
   "metadata": {},
   "outputs": [],
   "source": [
    "l_model = BertForSequenceClassification.from_pretrained(MODEL_PATH)"
   ]
  },
  {
   "cell_type": "code",
   "execution_count": 18,
   "metadata": {},
   "outputs": [
    {
     "data": {
      "application/vnd.jupyter.widget-view+json": {
       "model_id": "5bb2818041f94c2ab59e3df61addbd46",
       "version_major": 2,
       "version_minor": 0
      },
      "text/plain": [
       "Testing:   0%|          | 0/197 [00:00<?, ?it/s]"
      ]
     },
     "metadata": {},
     "output_type": "display_data"
    }
   ],
   "source": [
    "# Accuracy\n",
    "l_model.eval()\n",
    "\n",
    "prediction, true_labeles = [], []\n",
    "test_bar = tqdm(total=len(test_loader), desc=\"Testing\")\n",
    "\n",
    "for batch in test_loader:\n",
    "    batch_ids = batch[0].squeeze(1).to(device)\n",
    "    batch_masks = batch[1].squeeze(1).to(device)\n",
    "    batch_labels = batch[2].to(device)\n",
    "\n",
    "    with torch.no_grad():\n",
    "        output = l_model(batch_ids, token_type_ids = None, attention_mask = batch_masks)\n",
    "\n",
    "    logits = output.logits\n",
    "    prediction.append(np.argmax(logits.numpy(), axis=1))\n",
    "    true_labeles.append(batch_labels.numpy())\n",
    "\n",
    "    test_bar.update(1)"
   ]
  },
  {
   "cell_type": "code",
   "execution_count": 23,
   "metadata": {},
   "outputs": [
    {
     "data": {
      "image/png": "[encoded data removed]",
      "text/plain": [
       "<Figure size 432x288 with 1 Axes>"
      ]
     },
     "metadata": {
      "needs_background": "light"
     },
     "output_type": "display_data"
    }
   ],
   "source": [
    "plt.plot(history['training_loss'], label='Training')\n",
    "plt.plot(history['validation_loss'], label='Validation')\n",
    "plt.title('Training & Validation Loss')\n",
    "plt.xlabel('Epoch')\n",
    "plt.xticks(range(max_epoch))\n",
    "plt.ylabel('Loss')\n",
    "plt.show()"
   ]
  },
  {
   "cell_type": "markdown",
   "metadata": {},
   "source": [
    "### Classification Report"
   ]
  },
  {
   "cell_type": "code",
   "execution_count": 24,
   "metadata": {},
   "outputs": [
    {
     "name": "stdout",
     "output_type": "stream",
     "text": [
      "              precision    recall  f1-score   support\n",
      "\n",
      "           0       1.00      0.30      0.46        50\n",
      "           1       0.00      0.00      0.00         0\n",
      "           2       0.00      0.00      0.00         0\n",
      "\n",
      "    accuracy                           0.30        50\n",
      "   macro avg       0.33      0.10      0.15        50\n",
      "weighted avg       1.00      0.30      0.46        50\n",
      "\n"
     ]
    }
   ],
   "source": [
    "all_prediction = np.concatenate(prediction)\n",
    "all_true_labels = np.concatenate(true_labeles)\n",
    "\n",
    "print(classification_report(all_prediction, all_true_labels, labels=np.unique(all_true_labels), zero_division=0))"
   ]
  },
  {
   "cell_type": "code",
   "execution_count": null,
   "metadata": {},
   "outputs": [],
   "source": []
  },
  {
   "cell_type": "code",
   "execution_count": null,
   "metadata": {},
   "outputs": [],
   "source": []
  },
  {
   "cell_type": "code",
   "execution_count": null,
   "metadata": {},
   "outputs": [],
   "source": []
  }
 ],
 "metadata": {
  "interpreter": {
   "hash": "f7db71afcf4b806bd24d35d8a0617ebdde69a5c1f1646280c1ec86ff18ed7460"
  },
  "kernelspec": {
   "display_name": "Python 3 (ipykernel)",
   "language": "python",
   "name": "python3"
  },
  "language_info": {
   "codemirror_mode": {
    "name": "ipython",
    "version": 3
   },
   "file_extension": ".py",
   "mimetype": "text/x-python",
   "name": "python",
   "nbconvert_exporter": "python",
   "pygments_lexer": "ipython3",
   "version": "3.8.10"
  }
 },
 "nbformat": 4,
 "nbformat_minor": 2
}
